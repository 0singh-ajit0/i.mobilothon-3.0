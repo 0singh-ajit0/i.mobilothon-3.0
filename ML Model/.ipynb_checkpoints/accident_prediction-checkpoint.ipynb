{
 "cells": [
  {
   "cell_type": "markdown",
   "id": "a328e528",
   "metadata": {},
   "source": [
    "# Road Accident Prediction"
   ]
  },
  {
   "cell_type": "code",
   "execution_count": 2,
   "id": "84d21480",
   "metadata": {},
   "outputs": [],
   "source": [
    "import pandas as pd\n",
    "import numpy as np\n",
    "import matplotlib.pyplot as plt\n",
    "import seaborn as sns\n",
    "import time\n",
    "\n",
    "from collections import Counter\n",
    "from imblearn.over_sampling import SMOTE\n",
    "import matplotlib.ticker as ticker\n",
    "from sklearn.model_selection import train_test_split\n",
    "from sklearn.preprocessing import StandardScaler,MinMaxScaler,LabelEncoder\n",
    "from sklearn.pipeline import Pipeline\n",
    "from sklearn.model_selection import RepeatedStratifiedKFold,GridSearchCV\n",
    "from sklearn.linear_model import LogisticRegression\n",
    "from sklearn.tree import DecisionTreeClassifier\n",
    "from sklearn.svm import SVC\n",
    "from sklearn.neighbors import KNeighborsClassifier\n",
    "from sklearn.naive_bayes import GaussianNB\n",
    "from sklearn.ensemble import RandomForestClassifier,AdaBoostClassifier,GradientBoostingClassifier\n",
    "from sklearn.metrics import accuracy_score,classification_report,confusion_matrix\n",
    "from sklearn.model_selection import KFold # import KFold\n",
    "from sklearn.model_selection import cross_val_score\n",
    "from keras.models import Sequential\n",
    "from keras.layers import Dense\n",
    "from keras.wrappers.scikit_learn import KerasClassifier\n",
    "from keras.utils import np_utils\n",
    "\n",
    "import warnings\n",
    "warnings.filterwarnings('ignore')\n",
    "%matplotlib inline"
   ]
  },
  {
   "cell_type": "code",
   "execution_count": 3,
   "id": "dbf989cf",
   "metadata": {},
   "outputs": [],
   "source": [
    "df = pd.read_csv(\"./RTA Dataset.csv\")"
   ]
  },
  {
   "cell_type": "code",
   "execution_count": 4,
   "id": "79e5c471",
   "metadata": {},
   "outputs": [
    {
     "data": {
      "text/html": [
       "<div>\n",
       "<style scoped>\n",
       "    .dataframe tbody tr th:only-of-type {\n",
       "        vertical-align: middle;\n",
       "    }\n",
       "\n",
       "    .dataframe tbody tr th {\n",
       "        vertical-align: top;\n",
       "    }\n",
       "\n",
       "    .dataframe thead th {\n",
       "        text-align: right;\n",
       "    }\n",
       "</style>\n",
       "<table border=\"1\" class=\"dataframe\">\n",
       "  <thead>\n",
       "    <tr style=\"text-align: right;\">\n",
       "      <th></th>\n",
       "      <th>Time</th>\n",
       "      <th>Day_of_week</th>\n",
       "      <th>Age_band_of_driver</th>\n",
       "      <th>Sex_of_driver</th>\n",
       "      <th>Educational_level</th>\n",
       "      <th>Vehicle_driver_relation</th>\n",
       "      <th>Driving_experience</th>\n",
       "      <th>Type_of_vehicle</th>\n",
       "      <th>Owner_of_vehicle</th>\n",
       "      <th>Service_year_of_vehicle</th>\n",
       "      <th>...</th>\n",
       "      <th>Vehicle_movement</th>\n",
       "      <th>Casualty_class</th>\n",
       "      <th>Sex_of_casualty</th>\n",
       "      <th>Age_band_of_casualty</th>\n",
       "      <th>Casualty_severity</th>\n",
       "      <th>Work_of_casuality</th>\n",
       "      <th>Fitness_of_casuality</th>\n",
       "      <th>Pedestrian_movement</th>\n",
       "      <th>Cause_of_accident</th>\n",
       "      <th>Accident_severity</th>\n",
       "    </tr>\n",
       "  </thead>\n",
       "  <tbody>\n",
       "    <tr>\n",
       "      <th>0</th>\n",
       "      <td>17:02:00</td>\n",
       "      <td>Monday</td>\n",
       "      <td>18-30</td>\n",
       "      <td>Male</td>\n",
       "      <td>Above high school</td>\n",
       "      <td>Employee</td>\n",
       "      <td>1-2yr</td>\n",
       "      <td>Automobile</td>\n",
       "      <td>Owner</td>\n",
       "      <td>Above 10yr</td>\n",
       "      <td>...</td>\n",
       "      <td>Going straight</td>\n",
       "      <td>na</td>\n",
       "      <td>na</td>\n",
       "      <td>na</td>\n",
       "      <td>na</td>\n",
       "      <td>NaN</td>\n",
       "      <td>NaN</td>\n",
       "      <td>Not a Pedestrian</td>\n",
       "      <td>Moving Backward</td>\n",
       "      <td>Slight Injury</td>\n",
       "    </tr>\n",
       "    <tr>\n",
       "      <th>1</th>\n",
       "      <td>17:02:00</td>\n",
       "      <td>Monday</td>\n",
       "      <td>31-50</td>\n",
       "      <td>Male</td>\n",
       "      <td>Junior high school</td>\n",
       "      <td>Employee</td>\n",
       "      <td>Above 10yr</td>\n",
       "      <td>Public (&gt; 45 seats)</td>\n",
       "      <td>Owner</td>\n",
       "      <td>5-10yrs</td>\n",
       "      <td>...</td>\n",
       "      <td>Going straight</td>\n",
       "      <td>na</td>\n",
       "      <td>na</td>\n",
       "      <td>na</td>\n",
       "      <td>na</td>\n",
       "      <td>NaN</td>\n",
       "      <td>NaN</td>\n",
       "      <td>Not a Pedestrian</td>\n",
       "      <td>Overtaking</td>\n",
       "      <td>Slight Injury</td>\n",
       "    </tr>\n",
       "    <tr>\n",
       "      <th>2</th>\n",
       "      <td>17:02:00</td>\n",
       "      <td>Monday</td>\n",
       "      <td>18-30</td>\n",
       "      <td>Male</td>\n",
       "      <td>Junior high school</td>\n",
       "      <td>Employee</td>\n",
       "      <td>1-2yr</td>\n",
       "      <td>Lorry (41?100Q)</td>\n",
       "      <td>Owner</td>\n",
       "      <td>NaN</td>\n",
       "      <td>...</td>\n",
       "      <td>Going straight</td>\n",
       "      <td>Driver or rider</td>\n",
       "      <td>Male</td>\n",
       "      <td>31-50</td>\n",
       "      <td>3</td>\n",
       "      <td>Driver</td>\n",
       "      <td>NaN</td>\n",
       "      <td>Not a Pedestrian</td>\n",
       "      <td>Changing lane to the left</td>\n",
       "      <td>Serious Injury</td>\n",
       "    </tr>\n",
       "    <tr>\n",
       "      <th>3</th>\n",
       "      <td>1:06:00</td>\n",
       "      <td>Sunday</td>\n",
       "      <td>18-30</td>\n",
       "      <td>Male</td>\n",
       "      <td>Junior high school</td>\n",
       "      <td>Employee</td>\n",
       "      <td>5-10yr</td>\n",
       "      <td>Public (&gt; 45 seats)</td>\n",
       "      <td>Governmental</td>\n",
       "      <td>NaN</td>\n",
       "      <td>...</td>\n",
       "      <td>Going straight</td>\n",
       "      <td>Pedestrian</td>\n",
       "      <td>Female</td>\n",
       "      <td>18-30</td>\n",
       "      <td>3</td>\n",
       "      <td>Driver</td>\n",
       "      <td>Normal</td>\n",
       "      <td>Not a Pedestrian</td>\n",
       "      <td>Changing lane to the right</td>\n",
       "      <td>Slight Injury</td>\n",
       "    </tr>\n",
       "    <tr>\n",
       "      <th>4</th>\n",
       "      <td>1:06:00</td>\n",
       "      <td>Sunday</td>\n",
       "      <td>18-30</td>\n",
       "      <td>Male</td>\n",
       "      <td>Junior high school</td>\n",
       "      <td>Employee</td>\n",
       "      <td>2-5yr</td>\n",
       "      <td>NaN</td>\n",
       "      <td>Owner</td>\n",
       "      <td>5-10yrs</td>\n",
       "      <td>...</td>\n",
       "      <td>Going straight</td>\n",
       "      <td>na</td>\n",
       "      <td>na</td>\n",
       "      <td>na</td>\n",
       "      <td>na</td>\n",
       "      <td>NaN</td>\n",
       "      <td>NaN</td>\n",
       "      <td>Not a Pedestrian</td>\n",
       "      <td>Overtaking</td>\n",
       "      <td>Slight Injury</td>\n",
       "    </tr>\n",
       "    <tr>\n",
       "      <th>5</th>\n",
       "      <td>14:15:00</td>\n",
       "      <td>Friday</td>\n",
       "      <td>31-50</td>\n",
       "      <td>Male</td>\n",
       "      <td>NaN</td>\n",
       "      <td>Unknown</td>\n",
       "      <td>NaN</td>\n",
       "      <td>NaN</td>\n",
       "      <td>NaN</td>\n",
       "      <td>NaN</td>\n",
       "      <td>...</td>\n",
       "      <td>U-Turn</td>\n",
       "      <td>Driver or rider</td>\n",
       "      <td>Male</td>\n",
       "      <td>31-50</td>\n",
       "      <td>3</td>\n",
       "      <td>Driver</td>\n",
       "      <td>Normal</td>\n",
       "      <td>Not a Pedestrian</td>\n",
       "      <td>Overloading</td>\n",
       "      <td>Slight Injury</td>\n",
       "    </tr>\n",
       "  </tbody>\n",
       "</table>\n",
       "<p>6 rows × 32 columns</p>\n",
       "</div>"
      ],
      "text/plain": [
       "       Time Day_of_week Age_band_of_driver Sex_of_driver   Educational_level  \\\n",
       "0  17:02:00      Monday              18-30          Male   Above high school   \n",
       "1  17:02:00      Monday              31-50          Male  Junior high school   \n",
       "2  17:02:00      Monday              18-30          Male  Junior high school   \n",
       "3   1:06:00      Sunday              18-30          Male  Junior high school   \n",
       "4   1:06:00      Sunday              18-30          Male  Junior high school   \n",
       "5  14:15:00      Friday              31-50          Male                 NaN   \n",
       "\n",
       "  Vehicle_driver_relation Driving_experience      Type_of_vehicle  \\\n",
       "0                Employee              1-2yr           Automobile   \n",
       "1                Employee         Above 10yr  Public (> 45 seats)   \n",
       "2                Employee              1-2yr      Lorry (41?100Q)   \n",
       "3                Employee             5-10yr  Public (> 45 seats)   \n",
       "4                Employee              2-5yr                  NaN   \n",
       "5                 Unknown                NaN                  NaN   \n",
       "\n",
       "  Owner_of_vehicle Service_year_of_vehicle  ... Vehicle_movement  \\\n",
       "0            Owner              Above 10yr  ...   Going straight   \n",
       "1            Owner                 5-10yrs  ...   Going straight   \n",
       "2            Owner                     NaN  ...   Going straight   \n",
       "3     Governmental                     NaN  ...   Going straight   \n",
       "4            Owner                 5-10yrs  ...   Going straight   \n",
       "5              NaN                     NaN  ...           U-Turn   \n",
       "\n",
       "    Casualty_class Sex_of_casualty Age_band_of_casualty Casualty_severity  \\\n",
       "0               na              na                   na                na   \n",
       "1               na              na                   na                na   \n",
       "2  Driver or rider            Male                31-50                 3   \n",
       "3       Pedestrian          Female                18-30                 3   \n",
       "4               na              na                   na                na   \n",
       "5  Driver or rider            Male                31-50                 3   \n",
       "\n",
       "  Work_of_casuality Fitness_of_casuality Pedestrian_movement  \\\n",
       "0               NaN                  NaN    Not a Pedestrian   \n",
       "1               NaN                  NaN    Not a Pedestrian   \n",
       "2            Driver                  NaN    Not a Pedestrian   \n",
       "3            Driver               Normal    Not a Pedestrian   \n",
       "4               NaN                  NaN    Not a Pedestrian   \n",
       "5            Driver               Normal    Not a Pedestrian   \n",
       "\n",
       "            Cause_of_accident Accident_severity  \n",
       "0             Moving Backward     Slight Injury  \n",
       "1                  Overtaking     Slight Injury  \n",
       "2   Changing lane to the left    Serious Injury  \n",
       "3  Changing lane to the right     Slight Injury  \n",
       "4                  Overtaking     Slight Injury  \n",
       "5                 Overloading     Slight Injury  \n",
       "\n",
       "[6 rows x 32 columns]"
      ]
     },
     "execution_count": 4,
     "metadata": {},
     "output_type": "execute_result"
    }
   ],
   "source": [
    "df.head(6)"
   ]
  },
  {
   "cell_type": "code",
   "execution_count": 5,
   "id": "547f6009",
   "metadata": {},
   "outputs": [
    {
     "name": "stdout",
     "output_type": "stream",
     "text": [
      "Shape of the data: (12316, 32)\n",
      "Columns : Index(['Time', 'Day_of_week', 'Age_band_of_driver', 'Sex_of_driver',\n",
      "       'Educational_level', 'Vehicle_driver_relation', 'Driving_experience',\n",
      "       'Type_of_vehicle', 'Owner_of_vehicle', 'Service_year_of_vehicle',\n",
      "       'Defect_of_vehicle', 'Area_accident_occured', 'Lanes_or_Medians',\n",
      "       'Road_allignment', 'Types_of_Junction', 'Road_surface_type',\n",
      "       'Road_surface_conditions', 'Light_conditions', 'Weather_conditions',\n",
      "       'Type_of_collision', 'Number_of_vehicles_involved',\n",
      "       'Number_of_casualties', 'Vehicle_movement', 'Casualty_class',\n",
      "       'Sex_of_casualty', 'Age_band_of_casualty', 'Casualty_severity',\n",
      "       'Work_of_casuality', 'Fitness_of_casuality', 'Pedestrian_movement',\n",
      "       'Cause_of_accident', 'Accident_severity'],\n",
      "      dtype='object')\n"
     ]
    }
   ],
   "source": [
    "print(f\"Shape of the data: {df.shape}\")\n",
    "print(f\"Columns : {df.columns}\")"
   ]
  },
  {
   "cell_type": "code",
   "execution_count": 6,
   "id": "326ca170",
   "metadata": {},
   "outputs": [],
   "source": [
    "column_list_to_drop = ['Educational_level', 'Owner_of_vehicle', 'Vehicle_driver_relation', 'Service_year_of_vehicle', 'Number_of_casualties', 'Number_of_vehicles_involved', 'Casualty_severity', 'Fitness_of_casuality']\n",
    "df.drop(columns = column_list_to_drop, inplace=True)"
   ]
  },
  {
   "cell_type": "code",
   "execution_count": 7,
   "id": "3301578d",
   "metadata": {},
   "outputs": [
    {
     "data": {
      "text/plain": [
       "(12316, 24)"
      ]
     },
     "execution_count": 7,
     "metadata": {},
     "output_type": "execute_result"
    }
   ],
   "source": [
    "df.shape"
   ]
  },
  {
   "cell_type": "code",
   "execution_count": 8,
   "id": "1c092b78",
   "metadata": {},
   "outputs": [
    {
     "data": {
      "text/plain": [
       "Time                       object\n",
       "Day_of_week                object\n",
       "Age_band_of_driver         object\n",
       "Sex_of_driver              object\n",
       "Driving_experience         object\n",
       "Type_of_vehicle            object\n",
       "Defect_of_vehicle          object\n",
       "Area_accident_occured      object\n",
       "Lanes_or_Medians           object\n",
       "Road_allignment            object\n",
       "Types_of_Junction          object\n",
       "Road_surface_type          object\n",
       "Road_surface_conditions    object\n",
       "Light_conditions           object\n",
       "Weather_conditions         object\n",
       "Type_of_collision          object\n",
       "Vehicle_movement           object\n",
       "Casualty_class             object\n",
       "Sex_of_casualty            object\n",
       "Age_band_of_casualty       object\n",
       "Work_of_casuality          object\n",
       "Pedestrian_movement        object\n",
       "Cause_of_accident          object\n",
       "Accident_severity          object\n",
       "dtype: object"
      ]
     },
     "execution_count": 8,
     "metadata": {},
     "output_type": "execute_result"
    }
   ],
   "source": [
    "df.dtypes"
   ]
  },
  {
   "cell_type": "code",
   "execution_count": 9,
   "id": "29721dae",
   "metadata": {},
   "outputs": [
    {
     "name": "stdout",
     "output_type": "stream",
     "text": [
      "<class 'pandas.core.frame.DataFrame'>\n",
      "RangeIndex: 12316 entries, 0 to 12315\n",
      "Data columns (total 24 columns):\n",
      " #   Column                   Non-Null Count  Dtype \n",
      "---  ------                   --------------  ----- \n",
      " 0   Time                     12316 non-null  object\n",
      " 1   Day_of_week              12316 non-null  object\n",
      " 2   Age_band_of_driver       12316 non-null  object\n",
      " 3   Sex_of_driver            12316 non-null  object\n",
      " 4   Driving_experience       11487 non-null  object\n",
      " 5   Type_of_vehicle          11366 non-null  object\n",
      " 6   Defect_of_vehicle        7889 non-null   object\n",
      " 7   Area_accident_occured    12077 non-null  object\n",
      " 8   Lanes_or_Medians         11931 non-null  object\n",
      " 9   Road_allignment          12174 non-null  object\n",
      " 10  Types_of_Junction        11429 non-null  object\n",
      " 11  Road_surface_type        12144 non-null  object\n",
      " 12  Road_surface_conditions  12316 non-null  object\n",
      " 13  Light_conditions         12316 non-null  object\n",
      " 14  Weather_conditions       12316 non-null  object\n",
      " 15  Type_of_collision        12161 non-null  object\n",
      " 16  Vehicle_movement         12008 non-null  object\n",
      " 17  Casualty_class           12316 non-null  object\n",
      " 18  Sex_of_casualty          12316 non-null  object\n",
      " 19  Age_band_of_casualty     12316 non-null  object\n",
      " 20  Work_of_casuality        9118 non-null   object\n",
      " 21  Pedestrian_movement      12316 non-null  object\n",
      " 22  Cause_of_accident        12316 non-null  object\n",
      " 23  Accident_severity        12316 non-null  object\n",
      "dtypes: object(24)\n",
      "memory usage: 2.3+ MB\n"
     ]
    }
   ],
   "source": [
    "df.info()"
   ]
  },
  {
   "cell_type": "code",
   "execution_count": 10,
   "id": "7bd6a2e5",
   "metadata": {},
   "outputs": [],
   "source": [
    "df['Driving_experience'].fillna(df['Driving_experience'].mode()[0], inplace = True)\n",
    "df['Type_of_vehicle'].fillna(df['Type_of_vehicle'].mode()[0], inplace = True)\n",
    "df['Defect_of_vehicle'].fillna(df['Defect_of_vehicle'].mode()[0], inplace = True)\n",
    "df['Area_accident_occured'].fillna(df['Area_accident_occured'].mode()[0], inplace = True)\n",
    "df['Lanes_or_Medians'].fillna(df['Lanes_or_Medians'].mode()[0], inplace = True)\n",
    "df['Road_allignment'].fillna(df['Road_allignment'].mode()[0], inplace = True)\n",
    "df['Types_of_Junction'].fillna(df['Types_of_Junction'].mode()[0], inplace = True)\n",
    "df['Road_surface_type'].fillna(df['Road_surface_type'].mode()[0], inplace = True)\n",
    "df['Type_of_collision'].fillna(df['Type_of_collision'].mode()[0], inplace = True)\n",
    "df['Vehicle_movement'].fillna(df['Vehicle_movement'].mode()[0], inplace = True)\n",
    "df['Work_of_casuality'].fillna(df['Work_of_casuality'].mode()[0], inplace = True)"
   ]
  },
  {
   "cell_type": "code",
   "execution_count": 11,
   "id": "282a2e96",
   "metadata": {},
   "outputs": [
    {
     "name": "stdout",
     "output_type": "stream",
     "text": [
      "<class 'pandas.core.frame.DataFrame'>\n",
      "RangeIndex: 12316 entries, 0 to 12315\n",
      "Data columns (total 24 columns):\n",
      " #   Column                   Non-Null Count  Dtype \n",
      "---  ------                   --------------  ----- \n",
      " 0   Time                     12316 non-null  object\n",
      " 1   Day_of_week              12316 non-null  object\n",
      " 2   Age_band_of_driver       12316 non-null  object\n",
      " 3   Sex_of_driver            12316 non-null  object\n",
      " 4   Driving_experience       12316 non-null  object\n",
      " 5   Type_of_vehicle          12316 non-null  object\n",
      " 6   Defect_of_vehicle        12316 non-null  object\n",
      " 7   Area_accident_occured    12316 non-null  object\n",
      " 8   Lanes_or_Medians         12316 non-null  object\n",
      " 9   Road_allignment          12316 non-null  object\n",
      " 10  Types_of_Junction        12316 non-null  object\n",
      " 11  Road_surface_type        12316 non-null  object\n",
      " 12  Road_surface_conditions  12316 non-null  object\n",
      " 13  Light_conditions         12316 non-null  object\n",
      " 14  Weather_conditions       12316 non-null  object\n",
      " 15  Type_of_collision        12316 non-null  object\n",
      " 16  Vehicle_movement         12316 non-null  object\n",
      " 17  Casualty_class           12316 non-null  object\n",
      " 18  Sex_of_casualty          12316 non-null  object\n",
      " 19  Age_band_of_casualty     12316 non-null  object\n",
      " 20  Work_of_casuality        12316 non-null  object\n",
      " 21  Pedestrian_movement      12316 non-null  object\n",
      " 22  Cause_of_accident        12316 non-null  object\n",
      " 23  Accident_severity        12316 non-null  object\n",
      "dtypes: object(24)\n",
      "memory usage: 2.3+ MB\n",
      "None\n",
      "Total null cells:\n",
      "Time                       0\n",
      "Day_of_week                0\n",
      "Age_band_of_driver         0\n",
      "Sex_of_driver              0\n",
      "Driving_experience         0\n",
      "Type_of_vehicle            0\n",
      "Defect_of_vehicle          0\n",
      "Area_accident_occured      0\n",
      "Lanes_or_Medians           0\n",
      "Road_allignment            0\n",
      "Types_of_Junction          0\n",
      "Road_surface_type          0\n",
      "Road_surface_conditions    0\n",
      "Light_conditions           0\n",
      "Weather_conditions         0\n",
      "Type_of_collision          0\n",
      "Vehicle_movement           0\n",
      "Casualty_class             0\n",
      "Sex_of_casualty            0\n",
      "Age_band_of_casualty       0\n",
      "Work_of_casuality          0\n",
      "Pedestrian_movement        0\n",
      "Cause_of_accident          0\n",
      "Accident_severity          0\n",
      "dtype: int64\n"
     ]
    }
   ],
   "source": [
    "print(df.info())\n",
    "print(f\"Total null cells:\\n{df.isnull().sum()}\")"
   ]
  },
  {
   "cell_type": "code",
   "execution_count": 12,
   "id": "601541b2",
   "metadata": {},
   "outputs": [
    {
     "data": {
      "text/plain": [
       "Index(['Time', 'Day_of_week', 'Age_band_of_driver', 'Sex_of_driver',\n",
       "       'Driving_experience', 'Type_of_vehicle', 'Defect_of_vehicle',\n",
       "       'Area_accident_occured', 'Lanes_or_Medians', 'Road_allignment',\n",
       "       'Types_of_Junction', 'Road_surface_type', 'Road_surface_conditions',\n",
       "       'Light_conditions', 'Weather_conditions', 'Type_of_collision',\n",
       "       'Vehicle_movement', 'Casualty_class', 'Sex_of_casualty',\n",
       "       'Age_band_of_casualty', 'Work_of_casuality', 'Pedestrian_movement',\n",
       "       'Cause_of_accident', 'Accident_severity'],\n",
       "      dtype='object')"
      ]
     },
     "execution_count": 12,
     "metadata": {},
     "output_type": "execute_result"
    }
   ],
   "source": [
    "df.columns"
   ]
  },
  {
   "cell_type": "code",
   "execution_count": 13,
   "id": "9c68c389",
   "metadata": {},
   "outputs": [],
   "source": [
    "df['Time'] = pd.to_datetime(df['Time'])"
   ]
  },
  {
   "cell_type": "code",
   "execution_count": 14,
   "id": "f889f28e",
   "metadata": {},
   "outputs": [
    {
     "data": {
      "image/png": "[encoded data removed]",
      "text/plain": [
       "<Figure size 720x504 with 1 Axes>"
      ]
     },
     "metadata": {},
     "output_type": "display_data"
    }
   ],
   "source": [
    "plt.figure(figsize=(10,7))\n",
    "plt.pie(x=df['Accident_severity'].value_counts().values,\n",
    "        labels=df['Accident_severity'].value_counts().index,\n",
    "        autopct='%2.2f%%')\n",
    "plt.show()"
   ]
  },
  {
   "cell_type": "code",
   "execution_count": 15,
   "id": "0e0a5d78",
   "metadata": {},
   "outputs": [],
   "source": [
    "from sklearn.preprocessing import LabelEncoder           #or one hot encoder\n",
    "LE = LabelEncoder()\n",
    "df=df.apply(LE.fit_transform)  "
   ]
  },
  {
   "cell_type": "code",
   "execution_count": 16,
   "id": "bcc00028",
   "metadata": {},
   "outputs": [
    {
     "name": "stdout",
     "output_type": "stream",
     "text": [
      "(8621, 23) (3695, 23) (8621,) (3695,)\n"
     ]
    }
   ],
   "source": [
    "x = df.drop('Accident_severity', axis=1)\n",
    "y = df['Accident_severity']\n",
    "\n",
    "xtrain, xtest, ytrain, ytest = train_test_split(x, y, test_size=0.3, random_state=42)\n",
    "print(xtrain.shape, xtest.shape, ytrain.shape, ytest.shape)"
   ]
  },
  {
   "cell_type": "code",
   "execution_count": 17,
   "id": "f45fdaff",
   "metadata": {},
   "outputs": [
    {
     "name": "stdout",
     "output_type": "stream",
     "text": [
      "=============================\n",
      "Class= 2, n=7324 (84.96%)\n",
      "Class= 1, n=1191 (13.82%)\n",
      "Class= 0, n=106 (1.23%)\n",
      "=============================\n",
      "Class= 2, n=7324 (33.33%)\n",
      "Class= 1, n=7324 (33.33%)\n",
      "Class= 0, n=7324 (33.33%)\n",
      "=============================\n",
      "Upsampled data shape:  (21972, 23) (21972,)\n"
     ]
    }
   ],
   "source": [
    "# upsampling using smote\n",
    "\n",
    "counter = Counter(ytrain)\n",
    "\n",
    "print(\"=============================\")\n",
    "\n",
    "for k,v in counter.items():\n",
    "    per = 100*v/len(ytrain)\n",
    "    print(f\"Class= {k}, n={v} ({per:.2f}%)\")\n",
    "\n",
    "oversample = SMOTE()\n",
    "xtrain, ytrain = oversample.fit_resample(xtrain, ytrain)\n",
    "\n",
    "counter = Counter(ytrain)\n",
    "\n",
    "print(\"=============================\")\n",
    "\n",
    "for k,v in counter.items():\n",
    "    per = 100*v/len(ytrain)\n",
    "    print(f\"Class= {k}, n={v} ({per:.2f}%)\")\n",
    "\n",
    "print(\"=============================\")\n",
    "\n",
    "print(\"Upsampled data shape: \", xtrain.shape, ytrain.shape)"
   ]
  },
  {
   "cell_type": "code",
   "execution_count": 18,
   "id": "746e2b42",
   "metadata": {},
   "outputs": [],
   "source": [
    "x=df.drop(columns=[\"Accident_severity\"])\n",
    "y=df[\"Accident_severity\"]"
   ]
  },
  {
   "cell_type": "code",
   "execution_count": 19,
   "id": "90f76ca9",
   "metadata": {},
   "outputs": [],
   "source": [
    "models={\"LogisticRegression\":LogisticRegression(),\n",
    "        \"DecisionTreeClassifier\":DecisionTreeClassifier(),\n",
    "        \"SVM\":SVC(),\n",
    "        \"KNeighborsClassifier\":KNeighborsClassifier(),\n",
    "        \"GNB\":GaussianNB(),\n",
    "       \"RandomForestClassifier\":RandomForestClassifier(),\n",
    "        \"AdaBoostClassifier\":AdaBoostClassifier(),\n",
    "        \"GradientBoostingClassifier\":GradientBoostingClassifier(),\n",
    "        }"
   ]
  },
  {
   "cell_type": "code",
   "execution_count": 20,
   "id": "064eabac",
   "metadata": {},
   "outputs": [],
   "source": [
    "# models,x,y,scaleFlag=0,1,2\n",
    "from sklearn.metrics import classification_report\n",
    "def modelAccuracy(models, x, y, scaleFlag):\n",
    "    #train/Test\n",
    "    xtrain, xtest, ytrain, ytest = train_test_split(x, y, test_size=0.2, random_state=0)\n",
    "    acc_result = {}\n",
    "    for name, model in models.items():\n",
    "        #pipeline\n",
    "        #1.Transformer -> 2.Model\n",
    "        if scaleFlag == 1:\n",
    "            model_pipeline = Pipeline([('MinMaxScaler', MinMaxScaler()), ('model', model)])\n",
    "        elif scaleFlag == 2:\n",
    "            model_pipeline = Pipeline([('StandardScaler', StandardScaler()), ('model', model)])\n",
    "        else:\n",
    "            model_pipeline = Pipeline([('model', model)])\n",
    "        #training/testing on model pipeline\n",
    "        model_fit = model_pipeline.fit(xtrain, ytrain)\n",
    "        ypred = model_fit.predict(xtest)\n",
    "        report = classification_report(ytest, ypred)\n",
    "        print(\"The Classification Report for\", name, \"is :\\n\", report)\n",
    "        acc_result[name] = report\n",
    "    return acc_result"
   ]
  },
  {
   "cell_type": "code",
   "execution_count": 21,
   "id": "ff09232c",
   "metadata": {},
   "outputs": [
    {
     "name": "stdout",
     "output_type": "stream",
     "text": [
      "The Classification Report for LogisticRegression is :\n",
      "               precision    recall  f1-score   support\n",
      "\n",
      "           0       0.00      0.00      0.00        31\n",
      "           1       0.00      0.00      0.00       354\n",
      "           2       0.84      1.00      0.92      2079\n",
      "\n",
      "    accuracy                           0.84      2464\n",
      "   macro avg       0.28      0.33      0.31      2464\n",
      "weighted avg       0.71      0.84      0.77      2464\n",
      "\n",
      "The Classification Report for DecisionTreeClassifier is :\n",
      "               precision    recall  f1-score   support\n",
      "\n",
      "           0       0.07      0.10      0.08        31\n",
      "           1       0.19      0.22      0.20       354\n",
      "           2       0.85      0.83      0.84      2079\n",
      "\n",
      "    accuracy                           0.73      2464\n",
      "   macro avg       0.37      0.38      0.37      2464\n",
      "weighted avg       0.75      0.73      0.74      2464\n",
      "\n",
      "The Classification Report for SVM is :\n",
      "               precision    recall  f1-score   support\n",
      "\n",
      "           0       0.00      0.00      0.00        31\n",
      "           1       0.00      0.00      0.00       354\n",
      "           2       0.84      1.00      0.92      2079\n",
      "\n",
      "    accuracy                           0.84      2464\n",
      "   macro avg       0.28      0.33      0.31      2464\n",
      "weighted avg       0.71      0.84      0.77      2464\n",
      "\n",
      "The Classification Report for KNeighborsClassifier is :\n",
      "               precision    recall  f1-score   support\n",
      "\n",
      "           0       0.25      0.03      0.06        31\n",
      "           1       0.13      0.03      0.04       354\n",
      "           2       0.84      0.97      0.90      2079\n",
      "\n",
      "    accuracy                           0.82      2464\n",
      "   macro avg       0.41      0.34      0.33      2464\n",
      "weighted avg       0.73      0.82      0.77      2464\n",
      "\n",
      "The Classification Report for GNB is :\n",
      "               precision    recall  f1-score   support\n",
      "\n",
      "           0       0.01      0.90      0.03        31\n",
      "           1       0.22      0.02      0.04       354\n",
      "           2       0.84      0.14      0.23      2079\n",
      "\n",
      "    accuracy                           0.13      2464\n",
      "   macro avg       0.36      0.35      0.10      2464\n",
      "weighted avg       0.74      0.13      0.20      2464\n",
      "\n",
      "The Classification Report for RandomForestClassifier is :\n",
      "               precision    recall  f1-score   support\n",
      "\n",
      "           0       0.00      0.00      0.00        31\n",
      "           1       0.50      0.01      0.01       354\n",
      "           2       0.84      1.00      0.92      2079\n",
      "\n",
      "    accuracy                           0.84      2464\n",
      "   macro avg       0.45      0.33      0.31      2464\n",
      "weighted avg       0.78      0.84      0.77      2464\n",
      "\n",
      "The Classification Report for AdaBoostClassifier is :\n",
      "               precision    recall  f1-score   support\n",
      "\n",
      "           0       0.00      0.00      0.00        31\n",
      "           1       0.00      0.00      0.00       354\n",
      "           2       0.84      1.00      0.91      2079\n",
      "\n",
      "    accuracy                           0.84      2464\n",
      "   macro avg       0.28      0.33      0.30      2464\n",
      "weighted avg       0.71      0.84      0.77      2464\n",
      "\n",
      "The Classification Report for GradientBoostingClassifier is :\n",
      "               precision    recall  f1-score   support\n",
      "\n",
      "           0       1.00      0.03      0.06        31\n",
      "           1       0.56      0.01      0.03       354\n",
      "           2       0.85      1.00      0.92      2079\n",
      "\n",
      "    accuracy                           0.84      2464\n",
      "   macro avg       0.80      0.35      0.34      2464\n",
      "weighted avg       0.81      0.84      0.78      2464\n",
      "\n"
     ]
    }
   ],
   "source": [
    "acc=modelAccuracy(models,x,y,1)"
   ]
  },
  {
   "cell_type": "code",
   "execution_count": 22,
   "id": "a8a2f042",
   "metadata": {},
   "outputs": [
    {
     "name": "stdout",
     "output_type": "stream",
     "text": [
      "Classification Report:\n",
      "               precision    recall  f1-score   support\n",
      "\n",
      "           0       0.00      0.00      0.00        31\n",
      "           1       0.00      0.00      0.00       354\n",
      "           2       0.84      1.00      0.92      2079\n",
      "\n",
      "    accuracy                           0.84      2464\n",
      "   macro avg       0.28      0.33      0.31      2464\n",
      "weighted avg       0.71      0.84      0.77      2464\n",
      "\n"
     ]
    }
   ],
   "source": [
    "# Assuming x and y are your feature and target data respectively\n",
    "xtrain, xtest, ytrain, ytest = train_test_split(x, y, test_size=0.2, random_state=0)\n",
    "\n",
    "# Optionally scale the data\n",
    "scaler = MinMaxScaler()\n",
    "xtrain = scaler.fit_transform(xtrain)\n",
    "xtest = scaler.transform(xtest)\n",
    "\n",
    "# Create and train the logistic regression model\n",
    "model = LogisticRegression()\n",
    "model.fit(xtrain, ytrain)\n",
    "\n",
    "# Make predictions\n",
    "ypred = model.predict(xtest)\n",
    "\n",
    "# Compute the classification report\n",
    "report = classification_report(ytest, ypred)\n",
    "print(\"Classification Report:\\n\", report)"
   ]
  },
  {
   "cell_type": "code",
   "execution_count": 31,
   "id": "db5a67ab",
   "metadata": {},
   "outputs": [],
   "source": [
    "def baseline_model():\n",
    "  # create model\n",
    "  model = Sequential()\n",
    "  \n",
    "  # Rectified Linear Unit Activation Function\n",
    "  model.add(Dense(16, input_dim=23, activation='relu'))\n",
    "  model.add(Dense(16, activation = 'relu'))\n",
    "  # Softmax for multi-class classification\n",
    "  model.add(Dense(3, activation='softmax'))\n",
    "  # Compile model\n",
    "  model.compile(loss='categorical_crossentropy', optimizer='adam', metrics=['accuracy'])\n",
    "  return model"
   ]
  },
  {
   "cell_type": "code",
   "execution_count": 32,
   "id": "c846eff3",
   "metadata": {},
   "outputs": [],
   "source": [
    "cmodel = KerasClassifier(build_fn=baseline_model, epochs=200, batch_size=100, verbose=0)"
   ]
  },
  {
   "cell_type": "code",
   "execution_count": 33,
   "id": "c6014cb4",
   "metadata": {},
   "outputs": [],
   "source": [
    "kfold = KFold(n_splits=10, shuffle=True)"
   ]
  },
  {
   "cell_type": "code",
   "execution_count": 35,
   "id": "4054437c",
   "metadata": {},
   "outputs": [
    {
     "name": "stdout",
     "output_type": "stream",
     "text": [
      "Wall time: 2min 43s\n",
      "Result: 84.36% (0.96%)\n"
     ]
    }
   ],
   "source": [
    "xtrain, xtest, ytrain, ytest = train_test_split(x, y, test_size=0.2, random_state=0)\n",
    "\n",
    "%time result = cross_val_score(cmodel, x, y, cv=kfold)\n",
    "print(\"Result: %.2f%% (%.2f%%)\" % (result.mean()*100, result.std()*100))"
   ]
  },
  {
   "cell_type": "code",
   "execution_count": 38,
   "id": "67719488",
   "metadata": {},
   "outputs": [
    {
     "name": "stdout",
     "output_type": "stream",
     "text": [
      "(9852, 23) (9852,)\n"
     ]
    }
   ],
   "source": [
    "print(xtrain.shape, ytrain.shape)"
   ]
  },
  {
   "cell_type": "code",
   "execution_count": 42,
   "id": "6d1f9944",
   "metadata": {},
   "outputs": [
    {
     "name": "stdout",
     "output_type": "stream",
     "text": [
      "(9852, 3)\n",
      "[[0. 0. 1.]\n",
      " [0. 0. 1.]\n",
      " [0. 0. 1.]\n",
      " ...\n",
      " [0. 0. 1.]\n",
      " [0. 0. 1.]\n",
      " [0. 0. 1.]]\n"
     ]
    }
   ],
   "source": [
    "from keras.utils import to_categorical\n",
    "\n",
    "# Assuming ytrain is a list of integer labels\n",
    "ytrain_encoded = to_categorical(ytrain)\n",
    "\n",
    "print(ytrain_encoded.shape)\n",
    "print(ytrain_encoded)"
   ]
  },
  {
   "cell_type": "code",
   "execution_count": 41,
   "id": "42ba2076",
   "metadata": {},
   "outputs": [
    {
     "name": "stdout",
     "output_type": "stream",
     "text": [
      "Wall time: 17.5 s\n"
     ]
    }
   ],
   "source": [
    "model = baseline_model()\n",
    "model.compile(loss='categorical_crossentropy', optimizer='adam', metrics=['accuracy'])\n",
    "%time history = model.fit(xtrain, ytrain_encoded, validation_split=0.33, epochs=200, batch_size=100, verbose=0)"
   ]
  },
  {
   "cell_type": "code",
   "execution_count": 43,
   "id": "147a4e67",
   "metadata": {},
   "outputs": [
    {
     "name": "stdout",
     "output_type": "stream",
     "text": [
      "dict_keys(['loss', 'accuracy', 'val_loss', 'val_accuracy'])\n"
     ]
    },
    {
     "data": {
      "image/png": "[encoded data removed]",
      "text/plain": [
       "<Figure size 432x288 with 1 Axes>"
      ]
     },
     "metadata": {
      "needs_background": "light"
     },
     "output_type": "display_data"
    },
    {
     "data": {
      "image/png": "[encoded data removed]",
      "text/plain": [
       "<Figure size 432x288 with 1 Axes>"
      ]
     },
     "metadata": {
      "needs_background": "light"
     },
     "output_type": "display_data"
    }
   ],
   "source": [
    "print(history.history.keys())\n",
    "# summarize history for accuracy\n",
    "plt.plot(history.history['accuracy'])\n",
    "plt.plot(history.history['val_accuracy'])\n",
    "plt.title('model accuracy')\n",
    "plt.ylabel('accuracy')\n",
    "plt.xlabel('epoch')\n",
    "plt.legend(['train', 'test'], loc='upper left')\n",
    "plt.show()\n",
    "# summarize history for loss\n",
    "plt.plot(history.history['loss'])\n",
    "plt.plot(history.history['val_loss'])\n",
    "plt.title('model loss')\n",
    "plt.ylabel('loss')\n",
    "plt.xlabel('epoch')\n",
    "plt.legend(['train', 'test'], loc='upper left')\n",
    "plt.show()"
   ]
  },
  {
   "cell_type": "code",
   "execution_count": 46,
   "id": "90248280",
   "metadata": {},
   "outputs": [
    {
     "name": "stdout",
     "output_type": "stream",
     "text": [
      "77/77 [==============================] - 0s 819us/step - loss: 0.5497 - accuracy: 0.8438\n",
      "Accuracy from evaluate: 84.38\n"
     ]
    }
   ],
   "source": [
    "ytest_encoded = to_categorical(ytest)\n",
    "_, accuracy = model.evaluate(xtest, ytest_encoded)\n",
    "print('Accuracy from evaluate: %.2f' % (accuracy*100))"
   ]
  },
  {
   "cell_type": "code",
   "execution_count": null,
   "id": "f74c98b8",
   "metadata": {},
   "outputs": [],
   "source": []
  }
 ],
 "metadata": {
  "kernelspec": {
   "display_name": "Python 3",
   "language": "python",
   "name": "python3"
  },
  "language_info": {
   "codemirror_mode": {
    "name": "ipython",
    "version": 3
   },
   "file_extension": ".py",
   "mimetype": "text/x-python",
   "name": "python",
   "nbconvert_exporter": "python",
   "pygments_lexer": "ipython3",
   "version": "3.8.5"
  }
 },
 "nbformat": 4,
 "nbformat_minor": 5
}
